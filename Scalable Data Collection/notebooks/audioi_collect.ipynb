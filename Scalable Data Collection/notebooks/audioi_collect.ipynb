{
 "cells": [
  {
   "cell_type": "code",
   "execution_count": 1,
   "metadata": {},
   "outputs": [
    {
     "name": "stdout",
     "output_type": "stream",
     "text": [
      "Executing command: C:\\ffmpeg\\ffmpeg-master-latest-win64-gpl\\ffmpeg.exe -y -i http://stream.live.vc.bbcmedia.co.uk/bbc_world_service -t 30 -acodec mp3 audio_dataset\\BBC_World_Service_20250317_233404.mp3\n",
      "Recording from BBC_World_Service for 30 seconds...\n",
      "Executing command: C:\\ffmpeg\\ffmpeg-master-latest-win64-gpl\\ffmpeg.exe -y -i https://npr-ice.streamguys1.com/live.mp3 -t 30 -acodec mp3 audio_dataset\\NPR_News_20250317_233425.mp3\n",
      "Recording from NPR_News for 30 seconds...\n",
      "Executing command: C:\\ffmpeg\\ffmpeg-master-latest-win64-gpl\\ffmpeg.exe -y -i http://icecast.somafm.com/classical -t 30 -acodec mp3 audio_dataset\\Classical_Music_20250317_233457.mp3\n",
      "Recording from Classical_Music for 30 seconds...\n",
      "Executing command: C:\\ffmpeg\\ffmpeg-master-latest-win64-gpl\\ffmpeg.exe -y -i http://icecast.somafm.com/jazzlounge -t 30 -acodec mp3 audio_dataset\\Jazz_Lounge_20250317_233457.mp3\n",
      "Recording from Jazz_Lounge for 30 seconds...\n",
      "Executing command: C:\\ffmpeg\\ffmpeg-master-latest-win64-gpl\\ffmpeg.exe -y -i http://streaming.radio.co/s3dbefb5b8/listen -t 30 -acodec mp3 audio_dataset\\Rock_Radio_20250317_233457.mp3\n",
      "Recording from Rock_Radio for 30 seconds...\n",
      "Recording completed. Audio files and metadata saved in 'audio_dataset' folder.\n"
     ]
    }
   ],
   "source": [
    "import subprocess\n",
    "import datetime\n",
    "import csv\n",
    "import os\n",
    "\n",
    "# List of radio stations with names and streaming URLs\n",
    "stations = [\n",
    "    {\"name\": \"BBC_World_Service\", \"url\": \"http://stream.live.vc.bbcmedia.co.uk/bbc_world_service\"},\n",
    "    {\"name\": \"NPR_News\", \"url\": \"https://npr-ice.streamguys1.com/live.mp3\"},\n",
    "    {\"name\": \"Classical_Music\", \"url\": \"http://icecast.somafm.com/classical\"},\n",
    "    {\"name\": \"Jazz_Lounge\", \"url\": \"http://icecast.somafm.com/jazzlounge\"},\n",
    "    {\"name\": \"Rock_Radio\", \"url\": \"http://streaming.radio.co/s3dbefb5b8/listen\"}\n",
    "]\n",
    "\n",
    "# Full path to ffmpeg executable. Ensure this path is correct!\n",
    "ffmpeg_path = r\"C:\\ffmpeg\\ffmpeg-master-latest-win64-gpl\\ffmpeg.exe\"\n",
    "\n",
    "# Check if ffmpeg executable exists\n",
    "if not os.path.exists(ffmpeg_path):\n",
    "    raise FileNotFoundError(f\"ffmpeg not found at: {ffmpeg_path}\")\n",
    "\n",
    "# Output directory for audio files\n",
    "output_dir = \"audio_dataset\"\n",
    "os.makedirs(output_dir, exist_ok=True)\n",
    "\n",
    "# Create a metadata CSV file\n",
    "metadata_file = os.path.join(output_dir, \"metadata.csv\")\n",
    "\n",
    "with open(metadata_file, mode=\"w\", newline=\"\") as csvfile:\n",
    "    writer = csv.writer(csvfile)\n",
    "    writer.writerow([\"station_name\", \"timestamp\", \"duration\", \"filename\"])  # CSV header\n",
    "\n",
    "    # Loop through each station and record the stream\n",
    "    for station in stations:\n",
    "        timestamp = datetime.datetime.now().strftime(\"%Y%m%d_%H%M%S\")  # Unique timestamp\n",
    "        filename = f\"{station['name']}_{timestamp}.mp3\"  # File name\n",
    "        filepath = os.path.join(output_dir, filename)\n",
    "        duration = 30  # Duration in seconds\n",
    "\n",
    "        # ffmpeg command to record the audio\n",
    "        cmd = [\n",
    "            ffmpeg_path,      # Full path to ffmpeg.exe\n",
    "            \"-y\",             # Overwrite existing files\n",
    "            \"-i\", station[\"url\"],\n",
    "            \"-t\", str(duration),\n",
    "            \"-acodec\", \"mp3\", # Save as MP3 format\n",
    "            filepath\n",
    "        ]\n",
    "        \n",
    "        # Print the command for debugging purposes\n",
    "        print(f\"Executing command: {' '.join(cmd)}\")\n",
    "        print(f\"Recording from {station['name']} for {duration} seconds...\")\n",
    "        \n",
    "        # Run the command (no suppression of stdout/stderr for debugging)\n",
    "        subprocess.run(cmd)\n",
    "        \n",
    "        # Save metadata to CSV\n",
    "        writer.writerow([station[\"name\"], timestamp, duration, filename])\n",
    "\n",
    "print(\"Recording completed. Audio files and metadata saved in 'audio_dataset' folder.\")\n"
   ]
  },
  {
   "cell_type": "code",
   "execution_count": 2,
   "metadata": {},
   "outputs": [
    {
     "name": "stdout",
     "output_type": "stream",
     "text": [
      "Current working directory: c:\\mmdp2 project assignment\\Scalable Data Collection\\notebooks\n"
     ]
    }
   ],
   "source": [
    "import os\n",
    "print(\"Current working directory:\", os.getcwd())\n"
   ]
  }
 ],
 "metadata": {
  "kernelspec": {
   "display_name": "Python 3",
   "language": "python",
   "name": "python3"
  },
  "language_info": {
   "codemirror_mode": {
    "name": "ipython",
    "version": 3
   },
   "file_extension": ".py",
   "mimetype": "text/x-python",
   "name": "python",
   "nbconvert_exporter": "python",
   "pygments_lexer": "ipython3",
   "version": "3.12.4"
  }
 },
 "nbformat": 4,
 "nbformat_minor": 2
}
